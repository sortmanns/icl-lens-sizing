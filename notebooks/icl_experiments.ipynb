{
 "cells": [
  {
   "cell_type": "markdown",
   "metadata": {
    "collapsed": true,
    "pycharm": {
     "name": "#%% md\n"
    }
   },
   "source": [
    "## Import necessary packages"
   ]
  },
  {
   "cell_type": "code",
   "execution_count": 1,
   "outputs": [],
   "source": [
    "from icl_lens_sizing.preprocessing.preprocessing import load_and_prepare_training_data\n",
    "import statsmodels.api as sm"
   ],
   "metadata": {
    "collapsed": false,
    "pycharm": {
     "name": "#%%\n"
    }
   }
  },
  {
   "cell_type": "markdown",
   "source": [
    "## Load and prepare ICL data"
   ],
   "metadata": {
    "collapsed": false
   }
  },
  {
   "cell_type": "code",
   "execution_count": 2,
   "outputs": [],
   "source": [
    "features = [\"implantat_größe\",'CBID', 'CBID_LR']\n",
    "custom_features = {'cbid_ratio': (lambda row: row['CBID']/row['CBID_LR'])}\n",
    "X_train, y_train, X_validation, y_validation, feature_mapping = load_and_prepare_training_data(path='../data/icl_data_2023-07-09.csv', target=\"Lens-ICPL-Distance\",\n",
    "                                                                                               features=features, test_size=0.2, custom_features=custom_features)"
   ],
   "metadata": {
    "collapsed": false,
    "pycharm": {
     "name": "#%%\n"
    }
   }
  },
  {
   "cell_type": "code",
   "execution_count": 3,
   "outputs": [],
   "source": [
    "X_ols = sm.add_constant(X_train, has_constant='add')\n",
    "est = sm.OLS(y_train, X_ols).fit()\n",
    "X_prime = sm.add_constant(X_validation, has_constant='add')\n",
    "pred = est.predict(X_prime)"
   ],
   "metadata": {
    "collapsed": false,
    "pycharm": {
     "name": "#%%\n"
    }
   }
  },
  {
   "cell_type": "code",
   "execution_count": 4,
   "outputs": [
    {
     "data": {
      "text/plain": "<class 'statsmodels.iolib.summary.Summary'>\n\"\"\"\n                            OLS Regression Results                            \n==============================================================================\nDep. Variable:     Lens-ICPL-Distance   R-squared:                       0.363\nModel:                            OLS   Adj. R-squared:                  0.317\nMethod:                 Least Squares   F-statistic:                     7.844\nDate:                Sun, 16 Jul 2023   Prob (F-statistic):           4.47e-05\nTime:                        17:16:20   Log-Likelihood:                -387.54\nNo. Observations:                  60   AIC:                             785.1\nDf Residuals:                      55   BIC:                             795.6\nDf Model:                           4                                         \nCovariance Type:            nonrobust                                         \n==============================================================================\n                 coef    std err          t      P>|t|      [0.025      0.975]\n------------------------------------------------------------------------------\nconst        574.0667     20.831     27.558      0.000     532.320     615.813\nx1           -13.6873     28.704     -0.477      0.635     -71.211      43.836\nx2           -86.6317     30.503     -2.840      0.006    -147.761     -25.503\nx3           324.8820     99.813      3.255      0.002     124.852     524.911\nx4           270.5407    100.202      2.700      0.009      69.731     471.351\n==============================================================================\nOmnibus:                        5.560   Durbin-Watson:                   1.799\nProb(Omnibus):                  0.062   Jarque-Bera (JB):                4.588\nSkew:                           0.572   Prob(JB):                        0.101\nKurtosis:                       3.724   Cond. No.                         10.1\n==============================================================================\n\nNotes:\n[1] Standard Errors assume that the covariance matrix of the errors is correctly specified.\n\"\"\"",
      "text/html": "<table class=\"simpletable\">\n<caption>OLS Regression Results</caption>\n<tr>\n  <th>Dep. Variable:</th>    <td>Lens-ICPL-Distance</td> <th>  R-squared:         </th> <td>   0.363</td>\n</tr>\n<tr>\n  <th>Model:</th>                    <td>OLS</td>        <th>  Adj. R-squared:    </th> <td>   0.317</td>\n</tr>\n<tr>\n  <th>Method:</th>              <td>Least Squares</td>   <th>  F-statistic:       </th> <td>   7.844</td>\n</tr>\n<tr>\n  <th>Date:</th>              <td>Sun, 16 Jul 2023</td>  <th>  Prob (F-statistic):</th> <td>4.47e-05</td>\n</tr>\n<tr>\n  <th>Time:</th>                  <td>17:16:20</td>      <th>  Log-Likelihood:    </th> <td> -387.54</td>\n</tr>\n<tr>\n  <th>No. Observations:</th>       <td>    60</td>       <th>  AIC:               </th> <td>   785.1</td>\n</tr>\n<tr>\n  <th>Df Residuals:</th>           <td>    55</td>       <th>  BIC:               </th> <td>   795.6</td>\n</tr>\n<tr>\n  <th>Df Model:</th>               <td>     4</td>       <th>                     </th>     <td> </td>   \n</tr>\n<tr>\n  <th>Covariance Type:</th>       <td>nonrobust</td>     <th>                     </th>     <td> </td>   \n</tr>\n</table>\n<table class=\"simpletable\">\n<tr>\n    <td></td>       <th>coef</th>     <th>std err</th>      <th>t</th>      <th>P>|t|</th>  <th>[0.025</th>    <th>0.975]</th>  \n</tr>\n<tr>\n  <th>const</th> <td>  574.0667</td> <td>   20.831</td> <td>   27.558</td> <td> 0.000</td> <td>  532.320</td> <td>  615.813</td>\n</tr>\n<tr>\n  <th>x1</th>    <td>  -13.6873</td> <td>   28.704</td> <td>   -0.477</td> <td> 0.635</td> <td>  -71.211</td> <td>   43.836</td>\n</tr>\n<tr>\n  <th>x2</th>    <td>  -86.6317</td> <td>   30.503</td> <td>   -2.840</td> <td> 0.006</td> <td> -147.761</td> <td>  -25.503</td>\n</tr>\n<tr>\n  <th>x3</th>    <td>  324.8820</td> <td>   99.813</td> <td>    3.255</td> <td> 0.002</td> <td>  124.852</td> <td>  524.911</td>\n</tr>\n<tr>\n  <th>x4</th>    <td>  270.5407</td> <td>  100.202</td> <td>    2.700</td> <td> 0.009</td> <td>   69.731</td> <td>  471.351</td>\n</tr>\n</table>\n<table class=\"simpletable\">\n<tr>\n  <th>Omnibus:</th>       <td> 5.560</td> <th>  Durbin-Watson:     </th> <td>   1.799</td>\n</tr>\n<tr>\n  <th>Prob(Omnibus):</th> <td> 0.062</td> <th>  Jarque-Bera (JB):  </th> <td>   4.588</td>\n</tr>\n<tr>\n  <th>Skew:</th>          <td> 0.572</td> <th>  Prob(JB):          </th> <td>   0.101</td>\n</tr>\n<tr>\n  <th>Kurtosis:</th>      <td> 3.724</td> <th>  Cond. No.          </th> <td>    10.1</td>\n</tr>\n</table><br/><br/>Notes:<br/>[1] Standard Errors assume that the covariance matrix of the errors is correctly specified."
     },
     "execution_count": 4,
     "metadata": {},
     "output_type": "execute_result"
    }
   ],
   "source": [
    "est.summary()"
   ],
   "metadata": {
    "collapsed": false,
    "pycharm": {
     "name": "#%%\n"
    }
   }
  },
  {
   "cell_type": "code",
   "execution_count": 5,
   "outputs": [
    {
     "data": {
      "text/plain": "{0: 'implantat_größe', 1: 'CBID', 2: 'CBID_LR', 3: 'cbid_ratio'}"
     },
     "execution_count": 5,
     "metadata": {},
     "output_type": "execute_result"
    }
   ],
   "source": [
    "feature_mapping"
   ],
   "metadata": {
    "collapsed": false,
    "pycharm": {
     "name": "#%%\n"
    }
   }
  },
  {
   "cell_type": "code",
   "execution_count": null,
   "outputs": [],
   "source": [],
   "metadata": {
    "collapsed": false,
    "pycharm": {
     "name": "#%%\n"
    }
   }
  }
 ],
 "metadata": {
  "kernelspec": {
   "display_name": "Python 3",
   "language": "python",
   "name": "python3"
  },
  "language_info": {
   "codemirror_mode": {
    "name": "ipython",
    "version": 2
   },
   "file_extension": ".py",
   "mimetype": "text/x-python",
   "name": "python",
   "nbconvert_exporter": "python",
   "pygments_lexer": "ipython2",
   "version": "2.7.6"
  }
 },
 "nbformat": 4,
 "nbformat_minor": 0
}